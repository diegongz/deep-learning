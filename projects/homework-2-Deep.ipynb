{
 "cells": [
  {
   "cell_type": "markdown",
   "metadata": {},
   "source": [
    "# Deep Learning Homework 2"
   ]
  },
  {
   "cell_type": "markdown",
   "metadata": {},
   "source": [
    "Visit the site https://pytorch.org/vision/0.16/datasets.html to understand how the datasets in pytorch works"
   ]
  },
  {
   "cell_type": "code",
   "execution_count": 1,
   "metadata": {},
   "outputs": [],
   "source": [
    "import torch\n",
    "import numpy as np\n",
    "import matplotlib.pyplot as plt\n",
    "\n",
    "import torchvision\n",
    "import torchvision.datasets as datasets\n",
    "import torchvision.transforms as transforms\n",
    "\n",
    "import torch.nn as nn\n",
    "import torch.nn.functional as F"
   ]
  },
  {
   "cell_type": "markdown",
   "metadata": {},
   "source": [
    "## Data Processing"
   ]
  },
  {
   "cell_type": "code",
   "execution_count": 2,
   "metadata": {},
   "outputs": [
    {
     "name": "stdout",
     "output_type": "stream",
     "text": [
      "Running on GPU\n",
      "NVIDIA GeForce GTX 1060 6GB\n"
     ]
    }
   ],
   "source": [
    "# the whole point of pytorch is to be able to easily train models on GPU's and TPU's\n",
    "# if you have a dedicated GPU, you can download CUDA from Nvidia toolkits\n",
    "# this snippet of code will check if you have cuda installed, and will set the 'device' accordingly\n",
    "# for now, it should probably return \"Running on CPU\"\n",
    "\n",
    "if torch.cuda.is_available():\n",
    "    device = torch.device('cuda:0')\n",
    "    print('Running on GPU')\n",
    "    print(torch.cuda.get_device_name(0))\n",
    "else:\n",
    "    device = torch.device('cpu')\n",
    "    print('Running on CPU')"
   ]
  },
  {
   "cell_type": "markdown",
   "metadata": {},
   "source": [
    "We will use the CIFAR dataset\n",
    "- Classification (10 clases)\n",
    "- 60 k Images (50k training, 10k testing)\n",
    "- RGB\n",
    "- 32x32\n"
   ]
  },
  {
   "cell_type": "code",
   "execution_count": 18,
   "metadata": {},
   "outputs": [],
   "source": [
    "train_dataset = datasets.CIFAR10(root='./cifar10',transform=torchvision.transforms.ToTensor(), train=True, download=False) #this is the training dataset\n",
    "test_dataset = datasets.CIFAR10(root='./cifar10', transform=torchvision.transforms.ToTensor(), train=False, download=False) #this is the dataset test\n",
    "\n",
    "#the root will create a directory in the actual directory with the name \"cifar10\" and there  the data will be saved\n",
    "\n",
    "#Transform rescale and put them in a nice way"
   ]
  },
  {
   "cell_type": "markdown",
   "metadata": {},
   "source": [
    "The torchvision.transforms.ToTensor() function is a transform function in PyTorch’s torchvision library.\n",
    "\n",
    " It converts a PIL Image or a numpy.ndarray (H x W x C) in the range $[0, 255]$ to a torch.FloatTensor of shape (C x H x W) in the range $[0.0, 1.0]$."
   ]
  },
  {
   "cell_type": "code",
   "execution_count": 42,
   "metadata": {},
   "outputs": [
    {
     "data": {
      "text/plain": [
       "Dataset CIFAR10\n",
       "    Number of datapoints: 10000\n",
       "    Root location: ./cifar10\n",
       "    Split: Test\n",
       "    StandardTransform\n",
       "Transform: ToTensor()"
      ]
     },
     "execution_count": 42,
     "metadata": {},
     "output_type": "execute_result"
    }
   ],
   "source": [
    "test_dataset"
   ]
  },
  {
   "cell_type": "markdown",
   "metadata": {},
   "source": [
    "The above objects (\"train/test_dataset\") is RAW data\n",
    "\n",
    "Then a Loader will transform the RAW data into 128 batches that are gonna be iterable"
   ]
  },
  {
   "cell_type": "markdown",
   "metadata": {},
   "source": [
    "### DataLoader\n",
    "\n",
    "The torch.utils.data.DataLoader is a crucial component in PyTorch, providing several features that are extremely beneficial when working with datasets:\n",
    "\n",
    "- Batching the Data: DataLoader allows automatic batching of the data. You can specify the batch_size when creating a DataLoader instance, and it will automatically provide data in batches during the training or testing of the model.\n",
    "\n",
    "- Shuffling the Data: DataLoader provides an easy option to shuffle the data, which is essential for training models in most machine learning algorithms. Shuffling the data ensures that the model gets a mix of all different classes and doesn’t overfit to the order of the training data.\n",
    "\n",
    "- Parallelizing the Data Loading: DataLoader supports multi-process data loading. It leverages the num_workers argument to load data in parallel using multiple subprocesses13. This is particularly useful when dealing with large datasets, as it can significantly speed up the data loading process.\n",
    "\n",
    "- Handling Different Types of Datasets: DataLoader supports both map-style and iterable-style datasets1. Map-style datasets implement the __getitem__() and __len__() protocols and represent a map from indices/keys to data samples. Iterable-style datasets implement the __iter__() protocol and represent an iterable over data samples.\n",
    "\n",
    "- Customizing Data Loading Order: DataLoader allows you to specify a custom sampler object that yields the next index/key to fetch1. This is useful when you want to customize the sequence of indices used in data loading"
   ]
  },
  {
   "cell_type": "code",
   "execution_count": 19,
   "metadata": {},
   "outputs": [],
   "source": [
    "# TODO: create training and testing loaders\n",
    "# Hint: you'll want to read the documentation for torch.utils.data\n",
    "# experiment with batch sizes, other hyperparams\n",
    "# 10 minutes \n",
    "\n",
    "#the Loaders offers a solution for parallelizing the data with automatic batching\n",
    "\n",
    "train_loader = torch.utils.data.DataLoader(train_dataset, batch_size=128, shuffle=True) #shuffle just mix the data \n",
    "test_loader = torch.utils.data.DataLoader(test_dataset, batch_size=128, shuffle=True) #shuffle just mix the data"
   ]
  },
  {
   "cell_type": "markdown",
   "metadata": {},
   "source": [
    "A **DataLoader in PyTorch is essentially an iterator** that provides batches of data. It does this in an optimized way, handling the details of batching, shuffling, and loading data in parallel.\n",
    "\n",
    "The length of the DataLoader object (obtained using Python’s built-in len() function) indeed gives you the total number of batches, not the total number of data samples. If you divide the total number of data samples by the batch size (rounding up if necessary), you’ll get the length of the DataLoader."
   ]
  },
  {
   "cell_type": "code",
   "execution_count": 37,
   "metadata": {},
   "outputs": [
    {
     "data": {
      "text/plain": [
       "<torch.utils.data.dataloader.DataLoader at 0x1d3ae3e8910>"
      ]
     },
     "execution_count": 37,
     "metadata": {},
     "output_type": "execute_result"
    }
   ],
   "source": [
    "train_loader"
   ]
  },
  {
   "cell_type": "code",
   "execution_count": 27,
   "metadata": {},
   "outputs": [
    {
     "data": {
      "image/png": "[encoded data removed]",
      "text/plain": [
       "<Figure size 640x480 with 1 Axes>"
      ]
     },
     "metadata": {},
     "output_type": "display_data"
    }
   ],
   "source": [
    "# visualizing a sample from train loader\n",
    "\n",
    "train_iter = iter(train_loader) #iterate over trainloder\n",
    "\n",
    "batch_images, batch_labels = next(train_iter)\n",
    "image, label = batch_images[0], batch_labels[0]\n",
    "plt.imshow(image.permute(1,2,0))\n",
    "plt.show()"
   ]
  },
  {
   "cell_type": "code",
   "execution_count": null,
   "metadata": {},
   "outputs": [],
   "source": [
    "train_image_zero, train_class_zero = df_train[0] #this will separate the pattern and the class"
   ]
  },
  {
   "cell_type": "code",
   "execution_count": null,
   "metadata": {},
   "outputs": [],
   "source": [
    "train_image_zero.show() #will show the image"
   ]
  },
  {
   "cell_type": "code",
   "execution_count": null,
   "metadata": {},
   "outputs": [
    {
     "name": "stdout",
     "output_type": "stream",
     "text": [
      "The class of the image is: 6\n"
     ]
    }
   ],
   "source": [
    "print(f\"The class of the image is: {train_class_zero}\")"
   ]
  },
  {
   "cell_type": "code",
   "execution_count": null,
   "metadata": {},
   "outputs": [
    {
     "ename": "ValueError",
     "evalue": "too many values to unpack (expected 2)",
     "output_type": "error",
     "traceback": [
      "\u001b[1;31m---------------------------------------------------------------------------\u001b[0m",
      "\u001b[1;31mValueError\u001b[0m                                Traceback (most recent call last)",
      "\u001b[1;32mUntitled-1.ipynb Cell 8\u001b[0m line \u001b[0;36m1\n\u001b[1;32m----> <a href='vscode-notebook-cell:Untitled-1.ipynb?jupyter-notebook#X11sdW50aXRsZWQ%3D?line=0'>1</a>\u001b[0m df_train_pattern, df_train_class \u001b[39m=\u001b[39m df_train \u001b[39m#this will separate the pattern and the class\u001b[39;00m\n",
      "\u001b[1;31mValueError\u001b[0m: too many values to unpack (expected 2)"
     ]
    }
   ],
   "source": [
    "df_train_pattern, df_train_class = df_train #this will separate the pattern and the class"
   ]
  },
  {
   "cell_type": "code",
   "execution_count": null,
   "metadata": {},
   "outputs": [],
   "source": [
    "transform = transforms.Compose(\n",
    "    [transforms.ToTensor(),\n",
    "     transforms.Normalize((0.5, 0.5, 0.5), (0.5, 0.5, 0.5))])\n",
    "\n",
    "trainset = torchvision.datasets.CIFAR10(root='./data', train=True,\n",
    "                                        download=True, transform=transform)\n",
    "trainloader = torch.utils.data.DataLoader(trainset, batch_size=4,\n",
    "                                          shuffle=True, num_workers=2)\n",
    "\n",
    "testset = torchvision.datasets.CIFAR10(root='./data', train=False,\n",
    "                                       download=True, transform=transform)\n",
    "testloader = torch.utils.data.DataLoader(testset, batch_size=4,\n",
    "                                         shuffle=False, num_workers=2)"
   ]
  }
 ],
 "metadata": {
  "kernelspec": {
   "display_name": "torch",
   "language": "python",
   "name": "python3"
  },
  "language_info": {
   "codemirror_mode": {
    "name": "ipython",
    "version": 3
   },
   "file_extension": ".py",
   "mimetype": "text/x-python",
   "name": "python",
   "nbconvert_exporter": "python",
   "pygments_lexer": "ipython3",
   "version": "3.11.5"
  }
 },
 "nbformat": 4,
 "nbformat_minor": 2
}

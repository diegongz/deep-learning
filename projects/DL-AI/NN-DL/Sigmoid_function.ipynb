{
 "cells": [
  {
   "cell_type": "markdown",
   "metadata": {},
   "source": [
    "# Sigmoid Function"
   ]
  },
  {
   "cell_type": "markdown",
   "metadata": {},
   "source": [
    "**Construye una función que devuelva el sigmoid de un número real x.**"
   ]
  },
  {
   "cell_type": "markdown",
   "metadata": {},
   "source": [
    "$\\sigma(x) = \\frac{1}{1 + e^{-x}}$ \n",
    "\n",
    "\n",
    "**AKA Logistic Function**\n",
    "\n",
    "Nota: usar la función math.exp()"
   ]
  },
  {
   "cell_type": "code",
   "execution_count": 7,
   "metadata": {},
   "outputs": [],
   "source": [
    "import math\n",
    "# GRADED FUNCTION: basic_sigmoid\n",
    "\n",
    "def basic_sigmoid(x):\n",
    "    \"\"\"\n",
    "    Calcula el sigmoid de x.\n",
    "\n",
    "    Argumentos:\n",
    "    x -- Un escalar\n",
    "\n",
    "    Retorno:\n",
    "    s -- sigmoid(x)\n",
    "    \"\"\"\n",
    "    # (≈ 1 línea de código)\n",
    "    # s = \n",
    "    # TU CÓDIGO EMPIEZA AQUÍ\n",
    "\n",
    "\n",
    "    # TU CÓDIGO TERMINA AQUÍ\n",
    "    \n",
    "    return s\n"
   ]
  },
  {
   "cell_type": "markdown",
   "metadata": {},
   "source": [
    "Prueba la función en x=1\n",
    "basic_sigmoid(1) = 0.7310585786300049\n",
    "\n",
    "\n",
    "Respuesta: \n",
    "s = 1/(1+math.exp(-x))\n"
   ]
  },
  {
   "cell_type": "markdown",
   "metadata": {},
   "source": [
    "Ahora define la función sigmoid, debe realizar lo mismo que basic_sigmoid, sin embargo debes usar ahora np.exp() (Nota: Debes de importar numpy)\n",
    "\n",
    "import numpy as np"
   ]
  },
  {
   "cell_type": "markdown",
   "metadata": {},
   "source": [
    "Nota: math.exp() solo puede ser aplicado a reales, sin embargo si queremos aplicar a varios elementos de un arreglo se usa la version de numpy\n",
    "\n",
    "Ejericio:\n",
    "1. importa la paqueteria numpy como np\n",
    "2. Crea la funcion basic_sigmoid2 ahora con la np.exp()\n",
    "3. Define x= np.array([1,2,3])\n",
    "4. Verifica que basic_sigmoid2 funciona en x y que basic_sigmoid no lo hace"
   ]
  },
  {
   "cell_type": "markdown",
   "metadata": {},
   "source": [
    "## Gradiente de la función sigmoide"
   ]
  },
  {
   "cell_type": "markdown",
   "metadata": {},
   "source": [
    "1. Calcular la derivada de la función sigmoid.\n",
    "\n",
    "\n",
    "Confirma que es lo siguiente:\n",
    "$$sigmoid\\_derivative(x) = \\sigma'(x) = \\sigma(x) (1 - \\sigma(x))\\tag{2}$$\n",
    "\n",
    "2. Define la función sigmoid_derivative(x)\n",
    "\n",
    "**Hint: Usa la funcion sigmoid que definiste antes**"
   ]
  },
  {
   "cell_type": "code",
   "execution_count": null,
   "metadata": {},
   "outputs": [],
   "source": [
    "def sigmoid_derivative(x):\n",
    "    \"\"\"\n",
    "    Calcula el gradiente (también llamado pendiente o derivada) de la función sigmoid con respecto a su entrada x.\n",
    "    Puedes almacenar la salida de la función sigmoid en variables y luego usarla para calcular el gradiente.\n",
    "    \n",
    "    Argumentos:\n",
    "    x -- Un escalar o un array de numpy\n",
    "\n",
    "    Retorno:\n",
    "    ds -- Tu gradiente calculado.\n",
    "    \"\"\"\n",
    "    \n",
    "    #(≈ 2 líneas de código)\n",
    "    # s = \n",
    "    # ds = \n",
    "    # TU CÓDIGO EMPIEZA AQUÍ\n",
    "    \n",
    "    \n",
    "    # TU CÓDIGO TERMINA AQUÍ\n",
    "    \n",
    "    return ds\n"
   ]
  },
  {
   "cell_type": "markdown",
   "metadata": {},
   "source": [
    "Prueba tu función en el arreglo:\n",
    "\n",
    "t_x = np.array([1, 2, 3])\n",
    "\n",
    "El output debe ser: [0.19661193 0.10499359 0.04517666]\n",
    "\n",
    "\n",
    "Solución de la función: \n",
    "\n",
    "s= sigmoid(x)\n",
    "\n",
    "\n",
    "ds= s*(1-s)"
   ]
  },
  {
   "cell_type": "code",
   "execution_count": null,
   "metadata": {},
   "outputs": [],
   "source": []
  }
 ],
 "metadata": {
  "kernelspec": {
   "display_name": "base",
   "language": "python",
   "name": "python3"
  },
  "language_info": {
   "codemirror_mode": {
    "name": "ipython",
    "version": 3
   },
   "file_extension": ".py",
   "mimetype": "text/x-python",
   "name": "python",
   "nbconvert_exporter": "python",
   "pygments_lexer": "ipython3",
   "version": "3.11.4"
  }
 },
 "nbformat": 4,
 "nbformat_minor": 2
}

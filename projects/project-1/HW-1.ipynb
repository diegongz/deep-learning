{
 "cells": [
  {
   "cell_type": "markdown",
   "metadata": {},
   "source": [
    "# Deep Learning"
   ]
  },
  {
   "cell_type": "markdown",
   "metadata": {},
   "source": [
    "## Error in Sample"
   ]
  },
  {
   "cell_type": "markdown",
   "metadata": {},
   "source": [
    "### Activity\n",
    "\n",
    "1) Take MNIST dataset\n",
    "2) Create a NN model\n",
    "3) Take different values of n samples to train and test the model (i.e. 10, 100, 1000, 10000 etc.)\n",
    "4) For those n random values test the model (without training the model) and save the error in sample\n",
    "5) Repeat 60 time the step 3 and 4 and save the data for n in a list L_n\n",
    "6) Create an histogram (KDE graph) for every L_n"
   ]
  },
  {
   "cell_type": "markdown",
   "metadata": {},
   "source": [
    "The Goal of this activity is to understand how does the error behaves when we increment the number of samples, how most of the errors are acumulated in a same place"
   ]
  },
  {
   "cell_type": "code",
   "execution_count": 1,
   "metadata": {},
   "outputs": [],
   "source": [
    "import os\n",
    "import numpy as np\n",
    "import matplotlib.pyplot as plt\n",
    "import tensorflow as tf\n",
    "import math"
   ]
  },
  {
   "cell_type": "code",
   "execution_count": 2,
   "metadata": {},
   "outputs": [],
   "source": [
    "mnist = tf. keras.datasets.mnist #call to the dataset"
   ]
  },
  {
   "cell_type": "code",
   "execution_count": 3,
   "metadata": {},
   "outputs": [],
   "source": [
    "#Returns Tuple of NumPy arrays: (x_train, y_train), (x_test, y_test).\n",
    "\n",
    "(x_train,y_train), (x_test, y_test) = mnist.load_data() #split the dataset\n",
    "\n",
    "#load.data() returns 2 tuples"
   ]
  },
  {
   "cell_type": "code",
   "execution_count": 4,
   "metadata": {},
   "outputs": [
    {
     "name": "stdout",
     "output_type": "stream",
     "text": [
      "The shape of x_train: (60000, 28, 28)\n",
      "The shape of y_train: (60000,) \n",
      "\n",
      "The shape of x_test: (10000, 28, 28)\n",
      "The shape of y_test: (10000,)\n"
     ]
    }
   ],
   "source": [
    "print(f\"The shape of x_train: {x_train.shape}\")\n",
    "print(f\"The shape of y_train: {y_train.shape} \\n\")\n",
    "\n",
    "print(f\"The shape of x_test: {x_test.shape}\")\n",
    "print(f\"The shape of y_test: {y_test.shape}\")"
   ]
  },
  {
   "cell_type": "code",
   "execution_count": 5,
   "metadata": {},
   "outputs": [],
   "source": [
    "#normalize the data\n",
    "\n",
    "x_train = tf.keras.utils.normalize(x_train, axis= 1)\n",
    "x_test = tf.keras.utils.normalize(x_test, axis= 1)"
   ]
  },
  {
   "cell_type": "code",
   "execution_count": 6,
   "metadata": {},
   "outputs": [
    {
     "name": "stdout",
     "output_type": "stream",
     "text": [
      "INFO:tensorflow:Assets written to: model1\\assets\n"
     ]
    },
    {
     "name": "stderr",
     "output_type": "stream",
     "text": [
      "INFO:tensorflow:Assets written to: model1\\assets\n"
     ]
    }
   ],
   "source": [
    "#definition of the model 1\n",
    "\n",
    "model1 = tf.keras.models.Sequential()\n",
    "\n",
    "model1.add(tf.keras.layers.Flatten(input_shape=(28,28))) #Flatten each input of 32*32*3 as a simple vector\n",
    "model1.add(tf.keras.layers.Dense(15, activation = \"relu\"))\n",
    "model1.add(tf.keras.layers.Dense(10, activation = \"softmax\"))\n",
    "model1.compile(optimizer=\"adam\", loss=\"sparse_categorical_crossentropy\", metrics=\"accuracy\")\n",
    "\n",
    "model1.save(\"model1\")"
   ]
  },
  {
   "cell_type": "code",
   "execution_count": 10,
   "metadata": {},
   "outputs": [],
   "source": [
    "#model_name should be a string\n",
    "\n",
    "#num_data: number of sample i will taka from training\n",
    "#iterations: number of times I will repeat the experiment per n value\n",
    "\n",
    "def model_test(x_train, y_train, num_data, model_name):\n",
    "    #Load the model\n",
    "    loaded_model1 = tf.keras.models.load_model(model_name)\n",
    "\n",
    "    all_hist = [] #here i will save all histograms, every x here is one histogram\n",
    "    iterations = 60\n",
    "\n",
    "    for n in num_data:\n",
    "        histogram_values=[] #Here i will save one hisogram for specific n       \n",
    "            \n",
    "        for j in range(iterations):\n",
    "            #Select n random indices from 0 to x_train.shape[0] \n",
    "            indices = np.random.choice(x_train.shape[0], n, replace=False)\n",
    "\n",
    "            # Use these indices to create a new array such that only have the selected samples from the entire dataset\n",
    "            x_train_df = x_train[indices] #This is the data I will use to train the model\n",
    "            y_train_df = y_train[indices] #This are the classes of the selected samples\n",
    "\n",
    "            #Here I don't want to train the model, just test it in the basic model without trainning\n",
    "            loss_in , acuracy_in = loaded_model1.evaluate(x_train_df,y_train_df) #check in sample error\n",
    "\n",
    "            histogram_values.append(loss_in)\n",
    "        \n",
    "        all_hist.append(histogram_values)\n",
    "    \n",
    "    return all_hist"
   ]
  },
  {
   "cell_type": "code",
   "execution_count": 8,
   "metadata": {},
   "outputs": [
    {
     "name": "stdout",
     "output_type": "stream",
     "text": [
      "(60000, 28, 28)\n"
     ]
    }
   ],
   "source": [
    "print(x_train.shape)"
   ]
  },
  {
   "cell_type": "code",
   "execution_count": 33,
   "metadata": {},
   "outputs": [
    {
     "name": "stdout",
     "output_type": "stream",
     "text": [
      "1/1 [==============================] - 0s 101ms/step - loss: 2.2550 - accuracy: 0.0000e+00\n",
      "1/1 [==============================] - 0s 24ms/step - loss: 2.4747 - accuracy: 0.0000e+00\n",
      "1/1 [==============================] - 0s 13ms/step - loss: 2.2422 - accuracy: 0.1000\n",
      "1/1 [==============================] - 0s 14ms/step - loss: 2.3237 - accuracy: 0.0000e+00\n",
      "1/1 [==============================] - 0s 34ms/step - loss: 2.3653 - accuracy: 0.0000e+00\n",
      "1/1 [==============================] - 0s 28ms/step - loss: 2.2744 - accuracy: 0.0000e+00\n",
      "1/1 [==============================] - 0s 21ms/step - loss: 2.3636 - accuracy: 0.0000e+00\n",
      "1/1 [==============================] - 0s 18ms/step - loss: 2.3384 - accuracy: 0.0000e+00\n",
      "1/1 [==============================] - 0s 19ms/step - loss: 2.2073 - accuracy: 0.0000e+00\n",
      "1/1 [==============================] - 0s 14ms/step - loss: 2.1887 - accuracy: 0.0000e+00\n",
      "1/1 [==============================] - 0s 13ms/step - loss: 2.3147 - accuracy: 0.1000\n",
      "1/1 [==============================] - 0s 34ms/step - loss: 2.3119 - accuracy: 0.0000e+00\n",
      "1/1 [==============================] - 0s 20ms/step - loss: 2.2342 - accuracy: 0.1000\n",
      "1/1 [==============================] - 0s 16ms/step - loss: 2.3107 - accuracy: 0.0000e+00\n",
      "1/1 [==============================] - 0s 20ms/step - loss: 2.2977 - accuracy: 0.0000e+00\n",
      "1/1 [==============================] - 0s 15ms/step - loss: 2.3538 - accuracy: 0.0000e+00\n",
      "1/1 [==============================] - 0s 13ms/step - loss: 2.3376 - accuracy: 0.0000e+00\n",
      "1/1 [==============================] - 0s 29ms/step - loss: 2.3052 - accuracy: 0.0000e+00\n",
      "1/1 [==============================] - 0s 35ms/step - loss: 2.2167 - accuracy: 0.0000e+00\n",
      "1/1 [==============================] - 0s 22ms/step - loss: 2.3676 - accuracy: 0.0000e+00\n",
      "1/1 [==============================] - 0s 16ms/step - loss: 2.2454 - accuracy: 0.0000e+00\n",
      "1/1 [==============================] - 0s 35ms/step - loss: 2.3297 - accuracy: 0.0000e+00\n",
      "1/1 [==============================] - 0s 20ms/step - loss: 2.3067 - accuracy: 0.2000\n",
      "1/1 [==============================] - 0s 14ms/step - loss: 2.3012 - accuracy: 0.0000e+00\n",
      "1/1 [==============================] - 0s 19ms/step - loss: 2.3416 - accuracy: 0.2000\n",
      "1/1 [==============================] - 0s 29ms/step - loss: 2.2940 - accuracy: 0.0000e+00\n",
      "1/1 [==============================] - 0s 33ms/step - loss: 2.2992 - accuracy: 0.0000e+00\n",
      "1/1 [==============================] - 0s 15ms/step - loss: 2.2476 - accuracy: 0.0000e+00\n",
      "1/1 [==============================] - 0s 11ms/step - loss: 2.2958 - accuracy: 0.1000\n",
      "1/1 [==============================] - 0s 31ms/step - loss: 2.2160 - accuracy: 0.0000e+00\n",
      "1/1 [==============================] - 0s 15ms/step - loss: 2.2694 - accuracy: 0.0000e+00\n",
      "1/1 [==============================] - 0s 33ms/step - loss: 2.2637 - accuracy: 0.1000\n",
      "1/1 [==============================] - 0s 21ms/step - loss: 2.3889 - accuracy: 0.0000e+00\n",
      "1/1 [==============================] - 0s 23ms/step - loss: 2.2818 - accuracy: 0.0000e+00\n",
      "1/1 [==============================] - 0s 27ms/step - loss: 2.3188 - accuracy: 0.0000e+00\n",
      "1/1 [==============================] - 0s 35ms/step - loss: 2.2656 - accuracy: 0.0000e+00\n",
      "1/1 [==============================] - 0s 17ms/step - loss: 2.3763 - accuracy: 0.0000e+00\n",
      "1/1 [==============================] - 0s 32ms/step - loss: 2.2686 - accuracy: 0.0000e+00\n",
      "1/1 [==============================] - 0s 15ms/step - loss: 2.3301 - accuracy: 0.1000\n",
      "1/1 [==============================] - 0s 24ms/step - loss: 2.2407 - accuracy: 0.0000e+00\n",
      "1/1 [==============================] - 0s 27ms/step - loss: 2.2909 - accuracy: 0.0000e+00\n",
      "1/1 [==============================] - 0s 24ms/step - loss: 2.3702 - accuracy: 0.0000e+00\n",
      "1/1 [==============================] - 0s 17ms/step - loss: 2.3254 - accuracy: 0.0000e+00\n",
      "1/1 [==============================] - 0s 21ms/step - loss: 2.3101 - accuracy: 0.1000\n",
      "1/1 [==============================] - 0s 32ms/step - loss: 2.3554 - accuracy: 0.1000\n",
      "1/1 [==============================] - 0s 13ms/step - loss: 2.3997 - accuracy: 0.0000e+00\n",
      "1/1 [==============================] - 0s 26ms/step - loss: 2.3263 - accuracy: 0.1000\n",
      "1/1 [==============================] - 0s 22ms/step - loss: 2.3221 - accuracy: 0.0000e+00\n",
      "1/1 [==============================] - 0s 28ms/step - loss: 2.3290 - accuracy: 0.0000e+00\n",
      "1/1 [==============================] - 0s 32ms/step - loss: 2.1788 - accuracy: 0.0000e+00\n",
      "1/1 [==============================] - 0s 20ms/step - loss: 2.2854 - accuracy: 0.0000e+00\n",
      "1/1 [==============================] - 0s 16ms/step - loss: 2.2921 - accuracy: 0.0000e+00\n",
      "1/1 [==============================] - 0s 22ms/step - loss: 2.2618 - accuracy: 0.0000e+00\n",
      "1/1 [==============================] - 0s 29ms/step - loss: 2.3527 - accuracy: 0.0000e+00\n",
      "1/1 [==============================] - 0s 22ms/step - loss: 2.3168 - accuracy: 0.0000e+00\n",
      "1/1 [==============================] - 0s 28ms/step - loss: 2.2834 - accuracy: 0.0000e+00\n",
      "1/1 [==============================] - 0s 35ms/step - loss: 2.3414 - accuracy: 0.0000e+00\n",
      "1/1 [==============================] - 0s 24ms/step - loss: 2.3414 - accuracy: 0.0000e+00\n",
      "1/1 [==============================] - 0s 30ms/step - loss: 2.3875 - accuracy: 0.1000\n",
      "1/1 [==============================] - 0s 31ms/step - loss: 2.3357 - accuracy: 0.0000e+00\n",
      "4/4 [==============================] - 0s 0s/step - loss: 2.3475 - accuracy: 0.0100\n",
      "4/4 [==============================] - 0s 6ms/step - loss: 2.2903 - accuracy: 0.0300\n",
      "4/4 [==============================] - 0s 0s/step - loss: 2.2784 - accuracy: 0.0200 \n",
      "4/4 [==============================] - 0s 5ms/step - loss: 2.2924 - accuracy: 0.0200\n",
      "4/4 [==============================] - 0s 0s/step - loss: 2.3358 - accuracy: 0.0300\n",
      "4/4 [==============================] - 0s 5ms/step - loss: 2.2916 - accuracy: 0.0300\n",
      "4/4 [==============================] - 0s 0s/step - loss: 2.3068 - accuracy: 0.0200 \n",
      "4/4 [==============================] - 0s 0s/step - loss: 2.3189 - accuracy: 0.0100\n",
      "4/4 [==============================] - 0s 5ms/step - loss: 2.3153 - accuracy: 0.0100\n",
      "4/4 [==============================] - 0s 5ms/step - loss: 2.3219 - accuracy: 0.0300\n",
      "4/4 [==============================] - 0s 0s/step - loss: 2.3551 - accuracy: 0.0100 \n",
      "4/4 [==============================] - 0s 258us/step - loss: 2.2983 - accuracy: 0.0200\n",
      "4/4 [==============================] - 0s 0s/step - loss: 2.3014 - accuracy: 0.0300 \n",
      "4/4 [==============================] - 0s 5ms/step - loss: 2.3222 - accuracy: 0.0300\n",
      "4/4 [==============================] - 0s 0s/step - loss: 2.2952 - accuracy: 0.0300\n",
      "4/4 [==============================] - 0s 0s/step - loss: 2.2938 - accuracy: 0.0100\n",
      "4/4 [==============================] - 0s 6ms/step - loss: 2.3090 - accuracy: 0.0200\n",
      "4/4 [==============================] - 0s 2ms/step - loss: 2.3187 - accuracy: 0.0000e+00\n",
      "4/4 [==============================] - 0s 0s/step - loss: 2.3214 - accuracy: 0.0200 \n",
      "4/4 [==============================] - 0s 6ms/step - loss: 2.3257 - accuracy: 0.0300\n",
      "4/4 [==============================] - 0s 0s/step - loss: 2.2889 - accuracy: 0.0200 \n",
      "4/4 [==============================] - 0s 1ms/step - loss: 2.2978 - accuracy: 0.0000e+00\n",
      "4/4 [==============================] - 0s 0s/step - loss: 2.2941 - accuracy: 0.0100 \n",
      "4/4 [==============================] - 0s 5ms/step - loss: 2.2768 - accuracy: 0.0200\n",
      "4/4 [==============================] - 0s 0s/step - loss: 2.3255 - accuracy: 0.0200 \n",
      "4/4 [==============================] - 0s 6ms/step - loss: 2.3615 - accuracy: 0.0400\n",
      "4/4 [==============================] - 0s 0s/step - loss: 2.2661 - accuracy: 0.0100 \n",
      "4/4 [==============================] - 0s 498us/step - loss: 2.2916 - accuracy: 0.0000e+00\n",
      "4/4 [==============================] - 0s 0s/step - loss: 2.3133 - accuracy: 0.0300\n",
      "4/4 [==============================] - 0s 5ms/step - loss: 2.3296 - accuracy: 0.0500\n",
      "4/4 [==============================] - 0s 0s/step - loss: 2.3165 - accuracy: 0.0000e+00\n",
      "4/4 [==============================] - 0s 6ms/step - loss: 2.3328 - accuracy: 0.0000e+00\n",
      "4/4 [==============================] - 0s 2ms/step - loss: 2.3060 - accuracy: 0.0100\n",
      "4/4 [==============================] - 0s 5ms/step - loss: 2.2941 - accuracy: 0.0000e+00\n",
      "4/4 [==============================] - 0s 2ms/step - loss: 2.3139 - accuracy: 0.0300\n",
      "4/4 [==============================] - 0s 1ms/step - loss: 2.3200 - accuracy: 0.0100\n",
      "4/4 [==============================] - 0s 0s/step - loss: 2.3134 - accuracy: 0.0200 \n",
      "4/4 [==============================] - 0s 4ms/step - loss: 2.3176 - accuracy: 0.0400\n",
      "4/4 [==============================] - 0s 938us/step - loss: 2.3519 - accuracy: 0.0300\n",
      "4/4 [==============================] - 0s 0s/step - loss: 2.3244 - accuracy: 0.0200\n",
      "4/4 [==============================] - 0s 2ms/step - loss: 2.2921 - accuracy: 0.0100\n",
      "4/4 [==============================] - 0s 4ms/step - loss: 2.2872 - accuracy: 0.0300\n",
      "4/4 [==============================] - 0s 0s/step - loss: 2.3141 - accuracy: 0.0200\n",
      "4/4 [==============================] - 0s 3ms/step - loss: 2.3217 - accuracy: 0.0400\n",
      "4/4 [==============================] - 0s 2ms/step - loss: 2.3092 - accuracy: 0.0300\n",
      "4/4 [==============================] - 0s 2ms/step - loss: 2.2987 - accuracy: 0.0000e+00\n",
      "4/4 [==============================] - 0s 2ms/step - loss: 2.2770 - accuracy: 0.0100\n",
      "4/4 [==============================] - 0s 2ms/step - loss: 2.3120 - accuracy: 0.0200\n",
      "4/4 [==============================] - 0s 5ms/step - loss: 2.3137 - accuracy: 0.0200\n",
      "4/4 [==============================] - 0s 2ms/step - loss: 2.3175 - accuracy: 0.0300\n",
      "4/4 [==============================] - 0s 2ms/step - loss: 2.3347 - accuracy: 0.0200\n",
      "4/4 [==============================] - 0s 2ms/step - loss: 2.3264 - accuracy: 0.0400\n",
      "4/4 [==============================] - 0s 2ms/step - loss: 2.3114 - accuracy: 0.0200\n",
      "4/4 [==============================] - 0s 2ms/step - loss: 2.3043 - accuracy: 0.0100\n",
      "4/4 [==============================] - 0s 1ms/step - loss: 2.2894 - accuracy: 0.0000e+00\n",
      "4/4 [==============================] - 0s 6ms/step - loss: 2.3121 - accuracy: 0.0000e+00\n",
      "4/4 [==============================] - 0s 0s/step - loss: 2.3300 - accuracy: 0.0100\n",
      "4/4 [==============================] - 0s 2ms/step - loss: 2.3112 - accuracy: 0.0100\n",
      "4/4 [==============================] - 0s 2ms/step - loss: 2.3091 - accuracy: 0.0000e+00\n",
      "4/4 [==============================] - 0s 2ms/step - loss: 2.3277 - accuracy: 0.0300\n",
      "32/32 [==============================] - 0s 911us/step - loss: 2.3078 - accuracy: 0.0210\n",
      "32/32 [==============================] - 0s 1ms/step - loss: 2.2992 - accuracy: 0.0170\n",
      "32/32 [==============================] - 0s 901us/step - loss: 2.3118 - accuracy: 0.0230\n",
      "32/32 [==============================] - 0s 1ms/step - loss: 2.3055 - accuracy: 0.0230\n",
      "32/32 [==============================] - 0s 1ms/step - loss: 2.3024 - accuracy: 0.0170\n",
      "32/32 [==============================] - 0s 1ms/step - loss: 2.3052 - accuracy: 0.0220\n",
      "32/32 [==============================] - 0s 1ms/step - loss: 2.3080 - accuracy: 0.0240\n",
      "32/32 [==============================] - 0s 1ms/step - loss: 2.3136 - accuracy: 0.0180\n",
      "32/32 [==============================] - 0s 1ms/step - loss: 2.3185 - accuracy: 0.0220\n",
      "32/32 [==============================] - 0s 1ms/step - loss: 2.3083 - accuracy: 0.0140\n",
      "32/32 [==============================] - 0s 1ms/step - loss: 2.3066 - accuracy: 0.0230\n",
      "32/32 [==============================] - 0s 1ms/step - loss: 2.3117 - accuracy: 0.0120\n",
      "32/32 [==============================] - 0s 1ms/step - loss: 2.3102 - accuracy: 0.0230\n",
      "32/32 [==============================] - 0s 1ms/step - loss: 2.2990 - accuracy: 0.0260\n",
      "32/32 [==============================] - 0s 1ms/step - loss: 2.3079 - accuracy: 0.0150\n",
      "32/32 [==============================] - 0s 1ms/step - loss: 2.3048 - accuracy: 0.0190\n",
      "32/32 [==============================] - 0s 1ms/step - loss: 2.3117 - accuracy: 0.0190\n",
      "32/32 [==============================] - 0s 2ms/step - loss: 2.3196 - accuracy: 0.0220\n",
      "32/32 [==============================] - 0s 1ms/step - loss: 2.3114 - accuracy: 0.0150\n",
      "32/32 [==============================] - 0s 2ms/step - loss: 2.3030 - accuracy: 0.0150\n",
      "32/32 [==============================] - 0s 1ms/step - loss: 2.3088 - accuracy: 0.0220\n",
      "32/32 [==============================] - 0s 1ms/step - loss: 2.3090 - accuracy: 0.0220\n",
      "32/32 [==============================] - 0s 690us/step - loss: 2.3083 - accuracy: 0.0170\n",
      "32/32 [==============================] - 0s 1ms/step - loss: 2.3164 - accuracy: 0.0240\n",
      "32/32 [==============================] - 0s 1ms/step - loss: 2.3041 - accuracy: 0.0180\n",
      "32/32 [==============================] - 0s 1ms/step - loss: 2.3149 - accuracy: 0.0180\n",
      "32/32 [==============================] - 0s 1ms/step - loss: 2.2991 - accuracy: 0.0260\n",
      "32/32 [==============================] - 0s 1ms/step - loss: 2.3066 - accuracy: 0.0260\n",
      "32/32 [==============================] - 0s 2ms/step - loss: 2.3056 - accuracy: 0.0330\n",
      "32/32 [==============================] - 0s 1ms/step - loss: 2.3113 - accuracy: 0.0180\n",
      "32/32 [==============================] - 0s 1ms/step - loss: 2.3089 - accuracy: 0.0140\n",
      "32/32 [==============================] - 0s 1ms/step - loss: 2.3061 - accuracy: 0.0160\n",
      "32/32 [==============================] - 0s 1ms/step - loss: 2.3101 - accuracy: 0.0170\n",
      "32/32 [==============================] - 0s 1ms/step - loss: 2.3128 - accuracy: 0.0150\n",
      "32/32 [==============================] - 0s 1ms/step - loss: 2.3103 - accuracy: 0.0160\n",
      "32/32 [==============================] - 0s 1ms/step - loss: 2.3044 - accuracy: 0.0210\n",
      "32/32 [==============================] - 0s 2ms/step - loss: 2.3090 - accuracy: 0.0130\n",
      "32/32 [==============================] - 0s 1ms/step - loss: 2.3120 - accuracy: 0.0210\n",
      "32/32 [==============================] - 0s 1ms/step - loss: 2.3047 - accuracy: 0.0160\n",
      "32/32 [==============================] - 0s 1ms/step - loss: 2.3084 - accuracy: 0.0190\n",
      "32/32 [==============================] - 0s 1ms/step - loss: 2.3106 - accuracy: 0.0170\n",
      "32/32 [==============================] - 0s 1ms/step - loss: 2.2961 - accuracy: 0.0150\n",
      "32/32 [==============================] - 0s 2ms/step - loss: 2.3106 - accuracy: 0.0270\n",
      "32/32 [==============================] - 0s 969us/step - loss: 2.2992 - accuracy: 0.0260\n",
      "32/32 [==============================] - 0s 1ms/step - loss: 2.3130 - accuracy: 0.0200\n",
      "32/32 [==============================] - 0s 1ms/step - loss: 2.3185 - accuracy: 0.0170\n",
      "32/32 [==============================] - 0s 1ms/step - loss: 2.3142 - accuracy: 0.0180\n",
      "32/32 [==============================] - 0s 1ms/step - loss: 2.3035 - accuracy: 0.0210\n",
      "32/32 [==============================] - 0s 1ms/step - loss: 2.3082 - accuracy: 0.0190\n",
      "32/32 [==============================] - 0s 1ms/step - loss: 2.3139 - accuracy: 0.0210\n",
      "32/32 [==============================] - 0s 2ms/step - loss: 2.3117 - accuracy: 0.0160\n",
      "32/32 [==============================] - 0s 1ms/step - loss: 2.2991 - accuracy: 0.0250\n",
      "32/32 [==============================] - 0s 1ms/step - loss: 2.3156 - accuracy: 0.0220\n",
      "32/32 [==============================] - 0s 1ms/step - loss: 2.3041 - accuracy: 0.0270\n",
      "32/32 [==============================] - 0s 1ms/step - loss: 2.3176 - accuracy: 0.0230\n",
      "32/32 [==============================] - 0s 1ms/step - loss: 2.3114 - accuracy: 0.0190\n",
      "32/32 [==============================] - 0s 1ms/step - loss: 2.2995 - accuracy: 0.0210\n",
      "32/32 [==============================] - 0s 1ms/step - loss: 2.3044 - accuracy: 0.0200\n",
      "32/32 [==============================] - 0s 1ms/step - loss: 2.3067 - accuracy: 0.0240\n",
      "32/32 [==============================] - 0s 1ms/step - loss: 2.3077 - accuracy: 0.0200\n",
      "313/313 [==============================] - 0s 1ms/step - loss: 2.3080 - accuracy: 0.0209\n",
      "313/313 [==============================] - 0s 1ms/step - loss: 2.3075 - accuracy: 0.0210\n",
      "313/313 [==============================] - 0s 1ms/step - loss: 2.3079 - accuracy: 0.0193\n",
      "313/313 [==============================] - 0s 1ms/step - loss: 2.3108 - accuracy: 0.0216\n",
      "313/313 [==============================] - 0s 1ms/step - loss: 2.3074 - accuracy: 0.0171\n",
      "313/313 [==============================] - 0s 1ms/step - loss: 2.3080 - accuracy: 0.0190\n",
      "313/313 [==============================] - 0s 1ms/step - loss: 2.3075 - accuracy: 0.0202\n",
      "313/313 [==============================] - 0s 1ms/step - loss: 2.3114 - accuracy: 0.0198\n",
      "313/313 [==============================] - 0s 1ms/step - loss: 2.3070 - accuracy: 0.0200\n",
      "313/313 [==============================] - 0s 1ms/step - loss: 2.3077 - accuracy: 0.0198\n",
      "313/313 [==============================] - 0s 1ms/step - loss: 2.3089 - accuracy: 0.0232\n",
      "313/313 [==============================] - 0s 1ms/step - loss: 2.3088 - accuracy: 0.0186\n",
      "313/313 [==============================] - 0s 1ms/step - loss: 2.3072 - accuracy: 0.0189\n",
      "313/313 [==============================] - 0s 1ms/step - loss: 2.3090 - accuracy: 0.0196\n",
      "313/313 [==============================] - 0s 1ms/step - loss: 2.3082 - accuracy: 0.0225\n",
      "313/313 [==============================] - 0s 1ms/step - loss: 2.3040 - accuracy: 0.0206\n",
      "313/313 [==============================] - 0s 1ms/step - loss: 2.3084 - accuracy: 0.0201\n",
      "313/313 [==============================] - 0s 1ms/step - loss: 2.3089 - accuracy: 0.0211\n",
      "313/313 [==============================] - 0s 1ms/step - loss: 2.3076 - accuracy: 0.0206\n",
      "313/313 [==============================] - 0s 1ms/step - loss: 2.3084 - accuracy: 0.0192\n",
      "313/313 [==============================] - 0s 1ms/step - loss: 2.3102 - accuracy: 0.0178\n",
      "313/313 [==============================] - 0s 1ms/step - loss: 2.3099 - accuracy: 0.0207\n",
      "313/313 [==============================] - 0s 1ms/step - loss: 2.3089 - accuracy: 0.0210\n",
      "313/313 [==============================] - 0s 1ms/step - loss: 2.3052 - accuracy: 0.0195\n",
      "313/313 [==============================] - 0s 1ms/step - loss: 2.3081 - accuracy: 0.0199\n",
      "313/313 [==============================] - 0s 1ms/step - loss: 2.3070 - accuracy: 0.0203\n",
      "313/313 [==============================] - 0s 1ms/step - loss: 2.3095 - accuracy: 0.0189\n",
      "313/313 [==============================] - 0s 1ms/step - loss: 2.3071 - accuracy: 0.0198\n",
      "313/313 [==============================] - 0s 1ms/step - loss: 2.3076 - accuracy: 0.0187\n",
      "313/313 [==============================] - 0s 1ms/step - loss: 2.3065 - accuracy: 0.0200\n",
      "313/313 [==============================] - 0s 1ms/step - loss: 2.3069 - accuracy: 0.0204\n",
      "313/313 [==============================] - 0s 1ms/step - loss: 2.3064 - accuracy: 0.0204\n",
      "313/313 [==============================] - 0s 1ms/step - loss: 2.3088 - accuracy: 0.0225\n",
      "313/313 [==============================] - 0s 1ms/step - loss: 2.3087 - accuracy: 0.0181\n",
      "313/313 [==============================] - 0s 1ms/step - loss: 2.3076 - accuracy: 0.0207\n",
      "313/313 [==============================] - 0s 1ms/step - loss: 2.3059 - accuracy: 0.0201\n",
      "313/313 [==============================] - 0s 1ms/step - loss: 2.3096 - accuracy: 0.0206\n",
      "313/313 [==============================] - 0s 1ms/step - loss: 2.3111 - accuracy: 0.0195\n",
      "313/313 [==============================] - 0s 1ms/step - loss: 2.3104 - accuracy: 0.0193\n",
      "313/313 [==============================] - 0s 1ms/step - loss: 2.3080 - accuracy: 0.0187\n",
      "313/313 [==============================] - 0s 1ms/step - loss: 2.3093 - accuracy: 0.0200\n",
      "313/313 [==============================] - 0s 1ms/step - loss: 2.3069 - accuracy: 0.0181\n",
      "313/313 [==============================] - 0s 1ms/step - loss: 2.3073 - accuracy: 0.0231\n",
      "313/313 [==============================] - 0s 1ms/step - loss: 2.3081 - accuracy: 0.0179\n",
      "313/313 [==============================] - 0s 1ms/step - loss: 2.3069 - accuracy: 0.0197\n",
      "313/313 [==============================] - 0s 1ms/step - loss: 2.3084 - accuracy: 0.0216\n",
      "313/313 [==============================] - 0s 1ms/step - loss: 2.3081 - accuracy: 0.0181\n",
      "313/313 [==============================] - 0s 1ms/step - loss: 2.3096 - accuracy: 0.0221\n",
      "313/313 [==============================] - 0s 1ms/step - loss: 2.3072 - accuracy: 0.0202\n",
      "313/313 [==============================] - 0s 1ms/step - loss: 2.3060 - accuracy: 0.0197\n",
      "313/313 [==============================] - 0s 1ms/step - loss: 2.3100 - accuracy: 0.0207\n",
      "313/313 [==============================] - 0s 1ms/step - loss: 2.3081 - accuracy: 0.0203\n",
      "313/313 [==============================] - 0s 1ms/step - loss: 2.3098 - accuracy: 0.0185\n",
      "313/313 [==============================] - 0s 1ms/step - loss: 2.3066 - accuracy: 0.0195\n",
      "313/313 [==============================] - 0s 1ms/step - loss: 2.3062 - accuracy: 0.0196\n",
      "313/313 [==============================] - 0s 1ms/step - loss: 2.3106 - accuracy: 0.0201\n",
      "313/313 [==============================] - 0s 1ms/step - loss: 2.3087 - accuracy: 0.0187\n",
      "313/313 [==============================] - 0s 1ms/step - loss: 2.3092 - accuracy: 0.0214\n",
      "313/313 [==============================] - 0s 1ms/step - loss: 2.3071 - accuracy: 0.0188\n",
      "313/313 [==============================] - 0s 1ms/step - loss: 2.3079 - accuracy: 0.0202\n"
     ]
    }
   ],
   "source": [
    "num_data= [10,100,1000,10000]\n",
    "\n",
    "results = model_test(x_train, y_train, num_data, \"model1\")\n"
   ]
  },
  {
   "cell_type": "code",
   "execution_count": 35,
   "metadata": {},
   "outputs": [
    {
     "name": "stdout",
     "output_type": "stream",
     "text": [
      "(4, 60)\n"
     ]
    }
   ],
   "source": [
    "results = np.asarray(results)\n",
    "print(results.shape)"
   ]
  },
  {
   "cell_type": "code",
   "execution_count": 36,
   "metadata": {},
   "outputs": [
    {
     "data": {
      "image/png": "[encoded data removed]",
      "text/plain": [
       "<Figure size 640x480 with 1 Axes>"
      ]
     },
     "metadata": {},
     "output_type": "display_data"
    }
   ],
   "source": [
    "#Kernel Density Estimate (KDE)\n",
    "\n",
    "#KDE is analogous to histogram to find the probability density of the data\n",
    "import seaborn as sns\n",
    "\n",
    "#Create a Figure\n",
    "\n",
    "plt.figure()\n",
    "plt.ylabel('Error In Sample Density')\n",
    "plt.title(f'Histogram of Error for N samples')\n",
    "\n",
    "\n",
    "\n",
    "# Loop over data and create a histogram for each row\n",
    "for i in range(results.shape[0]):\n",
    "    sns.kdeplot(results[i], fill=True, label= f'{num_data[i]} samples')\n",
    "\n",
    "plt.legend()\n",
    "\n",
    "plt.show()"
   ]
  }
 ],
 "metadata": {
  "kernelspec": {
   "display_name": "tensorflow",
   "language": "python",
   "name": "python3"
  },
  "language_info": {
   "codemirror_mode": {
    "name": "ipython",
    "version": 3
   },
   "file_extension": ".py",
   "mimetype": "text/x-python",
   "name": "python",
   "nbconvert_exporter": "python",
   "pygments_lexer": "ipython3",
   "version": "3.8.18"
  }
 },
 "nbformat": 4,
 "nbformat_minor": 2
}
